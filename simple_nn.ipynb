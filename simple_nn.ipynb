{
 "cells": [
  {
   "cell_type": "code",
   "execution_count": 1,
   "metadata": {},
   "outputs": [
    {
     "name": "stderr",
     "output_type": "stream",
     "text": [
      "/Library/Frameworks/Python.framework/Versions/3.7/lib/python3.7/site-packages/matplotlib/font_manager.py:232: UserWarning: Matplotlib is building the font cache using fc-list. This may take a moment.\n",
      "  'Matplotlib is building the font cache using fc-list. '\n"
     ]
    }
   ],
   "source": [
    "import tensorflow as tf\n",
    "import pandas as pd\n",
    "import numpy as np\n",
    "import os\n",
    "import matplotlib\n",
    "import matplotlib.pyplot as plt\n",
    "import random\n",
    "import shutil\n",
    "import tensorflow.contrib.learn as tflearn\n",
    "import tensorflow.contrib.layers as tflayers\n",
    "import tensorflow.contrib.metrics as tfmetrics\n",
    "import tensorflow.contrib.rnn as tfrnn"
   ]
  },
  {
   "cell_type": "code",
   "execution_count": 2,
   "metadata": {},
   "outputs": [
    {
     "data": {
      "image/png": "[encoded data removed]",
      "text/plain": [
       "<Figure size 432x288 with 1 Axes>"
      ]
     },
     "metadata": {
      "needs_background": "light"
     },
     "output_type": "display_data"
    }
   ],
   "source": [
    "random.seed(101)\n",
    "rng = pd.date_range(start='2000', periods=210, freq='M')\n",
    "ts = pd.Series(np.random.uniform(-8, 10, size=len(rng)), rng).cumsum()\n",
    "ts.plot(c='b', title='Sample Time Series')\n",
    "plt.show()"
   ]
  },
  {
   "cell_type": "code",
   "execution_count": 3,
   "metadata": {},
   "outputs": [],
   "source": [
    "tsa = np.array(ts)\n",
    "num_periods = 20\n",
    "f_horizon = 1\n",
    "x_data = tsa[:(len(tsa)-(len(tsa) % num_periods))]\n",
    "x_batches = x_data.reshape(-1, 20, 1)\n",
    "y_data = tsa[1:(len(tsa) - (len(tsa) % num_periods)) + f_horizon]\n",
    "y_batches = y_data.reshape(-1, 20, 1)\n",
    "def split_data(series, forecast, num_periods):\n",
    "    test_x_setup = tsa[-(num_periods + forecast):]\n",
    "    testX = test_x_setup[:num_periods].reshape(-1, 20, 1)\n",
    "    testY = tsa[-(num_periods):].reshape(-1, 20, 1)\n",
    "    return testX, testY\n",
    "X_test, Y_test = split_data(tsa, f_horizon, num_periods)"
   ]
  },
  {
   "cell_type": "code",
   "execution_count": 5,
   "metadata": {},
   "outputs": [],
   "source": [
    "tf.reset_default_graph()\n",
    "inputs = 1\n",
    "hidden = 200\n",
    "output = 1\n",
    "learning_rate = 0.001\n",
    "x = tf.placeholder(tf.float32, [None, num_periods, inputs])\n",
    "y = tf.placeholder(tf.float32, [None, num_periods, output])\n",
    "basic_cell = tf.contrib.rnn.BasicRNNCell(num_units = hidden, activation = tf.nn.relu)\n",
    "rnn_output, states = tf.nn.dynamic_rnn(basic_cell, x, dtype=tf.float32)\n",
    "stacked_rnn_output = tf.reshape(rnn_output, [-1, hidden])\n",
    "stacked_outputs = tf.layers.dense(stacked_rnn_output, output)\n",
    "outputs = tf.reshape(stacked_outputs, [-1, num_periods, output])\n",
    "loss = tf.reduce_sum(tf.square(outputs - y))\n",
    "optimizer = tf.train.AdamOptimizer(learning_rate = learning_rate)\n",
    "training_op = optimizer.minimize(loss)\n",
    "init = tf.global_variables_initializer()"
   ]
  },
  {
   "cell_type": "code",
   "execution_count": 6,
   "metadata": {},
   "outputs": [
    {
     "name": "stdout",
     "output_type": "stream",
     "text": [
      "0 \tMSE:  3303719.2\n",
      "100 \tMSE:  53425.71\n",
      "200 \tMSE:  9468.973\n",
      "300 \tMSE:  2987.074\n",
      "400 \tMSE:  2145.6633\n",
      "500 \tMSE:  1774.2594\n",
      "600 \tMSE:  1563.2361\n",
      "700 \tMSE:  1432.9978\n",
      "800 \tMSE:  1210.2698\n",
      "900 \tMSE:  1099.3605\n",
      "1000 \tMSE:  920.8389\n",
      "1100 \tMSE:  837.6603\n",
      "1200 \tMSE:  806.1492\n",
      "1300 \tMSE:  917.6068\n",
      "1400 \tMSE:  671.60706\n",
      "1500 \tMSE:  633.1609\n",
      "1600 \tMSE:  602.0137\n",
      "1700 \tMSE:  578.821\n",
      "1800 \tMSE:  1228.4619\n",
      "1900 \tMSE:  589.76733\n",
      "WARNING:tensorflow:From <ipython-input-6-94e34bbd9324>:12: convert_variables_to_constants (from tensorflow.python.framework.graph_util_impl) is deprecated and will be removed in a future version.\n",
      "Instructions for updating:\n",
      "Use tf.compat.v1.graph_util.convert_variables_to_constants\n",
      "WARNING:tensorflow:From /Library/Frameworks/Python.framework/Versions/3.7/lib/python3.7/site-packages/tensorflow/python/framework/graph_util_impl.py:245: extract_sub_graph (from tensorflow.python.framework.graph_util_impl) is deprecated and will be removed in a future version.\n",
      "Instructions for updating:\n",
      "Use tf.compat.v1.graph_util.extract_sub_graph\n",
      "INFO:tensorflow:Froze 4 variables.\n",
      "INFO:tensorflow:Converted 4 variables to const ops.\n",
      "WARNING:tensorflow:From <ipython-input-6-94e34bbd9324>:13: FastGFile.__init__ (from tensorflow.python.platform.gfile) is deprecated and will be removed in a future version.\n",
      "Instructions for updating:\n",
      "Use tf.gfile.GFile.\n"
     ]
    }
   ],
   "source": [
    "epochs = 2000\n",
    "with tf.Session() as sess:\n",
    "    init.run()\n",
    "    for ep in range(epochs):\n",
    "        sess.run(training_op, feed_dict = {x : x_batches, y : y_batches})\n",
    "        if ep % 100 == 0:\n",
    "            mse = loss.eval(feed_dict = {x : x_batches, y : y_batches})\n",
    "            print(ep, \"\\tMSE: \", mse)\n",
    "    y_pred = sess.run(outputs, feed_dict = {x : X_test})\n",
    "    outputs = tf.reshape(stacked_outputs, [-1, num_periods, output], name=\"output\")\n",
    "    constant_graph = \\\n",
    "       tf.graph_util.convert_variables_to_constants(sess, sess.graph_def, [\"output\"])\n",
    "    with tf.gfile.FastGFile('./rnn_ts_model.pb', 'wb') as f:\n",
    "        f.write(constant_graph.SerializeToString())"
   ]
  },
  {
   "cell_type": "code",
   "execution_count": 7,
   "metadata": {},
   "outputs": [
    {
     "data": {
      "image/png": "[encoded data removed]",
      "text/plain": [
       "<Figure size 432x288 with 1 Axes>"
      ]
     },
     "metadata": {
      "needs_background": "light"
     },
     "output_type": "display_data"
    }
   ],
   "source": [
    "plt.title(\"Forecast vs. Actual\", fontsize=12)\n",
    "plt.plot(pd.Series(np.ravel(Y_test)), \"bo\", markersize=10, label = \"Actual\")\n",
    "plt.plot(pd.Series(np.ravel(y_pred)), \"r.\", markersize=10, label = \"Forecast\")\n",
    "plt.legend(loc=\"upper left\")\n",
    "plt.xlabel(\"Time Periods\")\n",
    "plt.show()"
   ]
  },
  {
   "cell_type": "code",
   "execution_count": null,
   "metadata": {},
   "outputs": [],
   "source": []
  }
 ],
 "metadata": {
  "kernelspec": {
   "display_name": "Python 3",
   "language": "python",
   "name": "python3"
  },
  "language_info": {
   "codemirror_mode": {
    "name": "ipython",
    "version": 3
   },
   "file_extension": ".py",
   "mimetype": "text/x-python",
   "name": "python",
   "nbconvert_exporter": "python",
   "pygments_lexer": "ipython3",
   "version": "3.7.2"
  }
 },
 "nbformat": 4,
 "nbformat_minor": 2
}
